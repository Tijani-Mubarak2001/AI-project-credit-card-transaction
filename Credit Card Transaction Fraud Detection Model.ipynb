{
 "cells": [
  {
   "cell_type": "code",
   "execution_count": 169,
   "metadata": {},
   "outputs": [],
   "source": [
    "import pandas as pd\n",
    "import numpy as np\n",
    "import matplotlib.pyplot as plt\n",
    "import math\n",
    "import seaborn as sns"
   ]
  },
  {
   "cell_type": "code",
   "execution_count": 170,
   "metadata": {},
   "outputs": [],
   "source": [
    "df = pd.read_csv(\"card_transdata.csv\")"
   ]
  },
  {
   "cell_type": "code",
   "execution_count": 171,
   "metadata": {},
   "outputs": [],
   "source": [
    "df2 = df.copy()"
   ]
  },
  {
   "cell_type": "markdown",
   "metadata": {},
   "source": [
    "## About the Dataset\n",
    "\n",
    "\n",
    "This dataset involves 1 million fraud and non-fraud credit card transactions. The goal of this study is to find the best fitting model to predict the fraud transactions based on their features.\n",
    "\n",
    "**Features:**\n",
    "\n",
    "distance_from_home: the distance from home where the transaction happened.\n",
    "\n",
    "distance_from_last_transaction: the distance from last transaction happened.\n",
    "\n",
    "ratio_to_median_purchase_price: Ratio of purchased price transaction to median purchase price.\n",
    "\n",
    "repeat_retailer: Is the transaction happened from same retailer.\n",
    "\n",
    "used_chip: Is the transaction through chip (credit card).\n",
    "\n",
    "used_pin_number: Is the transaction happened by using PIN number.\n",
    "\n",
    "online_order: Is the transaction an online order.\n",
    "\n",
    "fraud: Is the transaction fraudulent."
   ]
  },
  {
   "cell_type": "code",
   "execution_count": 172,
   "metadata": {},
   "outputs": [
    {
     "name": "stdout",
     "output_type": "stream",
     "text": [
      "Dataframe shape: (1000000, 8)\n"
     ]
    },
    {
     "data": {
      "text/html": [
       "<div>\n",
       "<style scoped>\n",
       "    .dataframe tbody tr th:only-of-type {\n",
       "        vertical-align: middle;\n",
       "    }\n",
       "\n",
       "    .dataframe tbody tr th {\n",
       "        vertical-align: top;\n",
       "    }\n",
       "\n",
       "    .dataframe thead th {\n",
       "        text-align: right;\n",
       "    }\n",
       "</style>\n",
       "<table border=\"1\" class=\"dataframe\">\n",
       "  <thead>\n",
       "    <tr style=\"text-align: right;\">\n",
       "      <th></th>\n",
       "      <th>distance_from_home</th>\n",
       "      <th>distance_from_last_transaction</th>\n",
       "      <th>ratio_to_median_purchase_price</th>\n",
       "      <th>repeat_retailer</th>\n",
       "      <th>used_chip</th>\n",
       "      <th>used_pin_number</th>\n",
       "      <th>online_order</th>\n",
       "      <th>fraud</th>\n",
       "    </tr>\n",
       "  </thead>\n",
       "  <tbody>\n",
       "    <tr>\n",
       "      <th>0</th>\n",
       "      <td>57.877857</td>\n",
       "      <td>0.311140</td>\n",
       "      <td>1.945940</td>\n",
       "      <td>1.0</td>\n",
       "      <td>1.0</td>\n",
       "      <td>0.0</td>\n",
       "      <td>0.0</td>\n",
       "      <td>0.0</td>\n",
       "    </tr>\n",
       "    <tr>\n",
       "      <th>1</th>\n",
       "      <td>10.829943</td>\n",
       "      <td>0.175592</td>\n",
       "      <td>1.294219</td>\n",
       "      <td>1.0</td>\n",
       "      <td>0.0</td>\n",
       "      <td>0.0</td>\n",
       "      <td>0.0</td>\n",
       "      <td>0.0</td>\n",
       "    </tr>\n",
       "    <tr>\n",
       "      <th>2</th>\n",
       "      <td>5.091079</td>\n",
       "      <td>0.805153</td>\n",
       "      <td>0.427715</td>\n",
       "      <td>1.0</td>\n",
       "      <td>0.0</td>\n",
       "      <td>0.0</td>\n",
       "      <td>1.0</td>\n",
       "      <td>0.0</td>\n",
       "    </tr>\n",
       "    <tr>\n",
       "      <th>3</th>\n",
       "      <td>2.247564</td>\n",
       "      <td>5.600044</td>\n",
       "      <td>0.362663</td>\n",
       "      <td>1.0</td>\n",
       "      <td>1.0</td>\n",
       "      <td>0.0</td>\n",
       "      <td>1.0</td>\n",
       "      <td>0.0</td>\n",
       "    </tr>\n",
       "    <tr>\n",
       "      <th>4</th>\n",
       "      <td>44.190936</td>\n",
       "      <td>0.566486</td>\n",
       "      <td>2.222767</td>\n",
       "      <td>1.0</td>\n",
       "      <td>1.0</td>\n",
       "      <td>0.0</td>\n",
       "      <td>1.0</td>\n",
       "      <td>0.0</td>\n",
       "    </tr>\n",
       "    <tr>\n",
       "      <th>...</th>\n",
       "      <td>...</td>\n",
       "      <td>...</td>\n",
       "      <td>...</td>\n",
       "      <td>...</td>\n",
       "      <td>...</td>\n",
       "      <td>...</td>\n",
       "      <td>...</td>\n",
       "      <td>...</td>\n",
       "    </tr>\n",
       "    <tr>\n",
       "      <th>999995</th>\n",
       "      <td>2.207101</td>\n",
       "      <td>0.112651</td>\n",
       "      <td>1.626798</td>\n",
       "      <td>1.0</td>\n",
       "      <td>1.0</td>\n",
       "      <td>0.0</td>\n",
       "      <td>0.0</td>\n",
       "      <td>0.0</td>\n",
       "    </tr>\n",
       "    <tr>\n",
       "      <th>999996</th>\n",
       "      <td>19.872726</td>\n",
       "      <td>2.683904</td>\n",
       "      <td>2.778303</td>\n",
       "      <td>1.0</td>\n",
       "      <td>1.0</td>\n",
       "      <td>0.0</td>\n",
       "      <td>0.0</td>\n",
       "      <td>0.0</td>\n",
       "    </tr>\n",
       "    <tr>\n",
       "      <th>999997</th>\n",
       "      <td>2.914857</td>\n",
       "      <td>1.472687</td>\n",
       "      <td>0.218075</td>\n",
       "      <td>1.0</td>\n",
       "      <td>1.0</td>\n",
       "      <td>0.0</td>\n",
       "      <td>1.0</td>\n",
       "      <td>0.0</td>\n",
       "    </tr>\n",
       "    <tr>\n",
       "      <th>999998</th>\n",
       "      <td>4.258729</td>\n",
       "      <td>0.242023</td>\n",
       "      <td>0.475822</td>\n",
       "      <td>1.0</td>\n",
       "      <td>0.0</td>\n",
       "      <td>0.0</td>\n",
       "      <td>1.0</td>\n",
       "      <td>0.0</td>\n",
       "    </tr>\n",
       "    <tr>\n",
       "      <th>999999</th>\n",
       "      <td>58.108125</td>\n",
       "      <td>0.318110</td>\n",
       "      <td>0.386920</td>\n",
       "      <td>1.0</td>\n",
       "      <td>1.0</td>\n",
       "      <td>0.0</td>\n",
       "      <td>1.0</td>\n",
       "      <td>0.0</td>\n",
       "    </tr>\n",
       "  </tbody>\n",
       "</table>\n",
       "<p>1000000 rows × 8 columns</p>\n",
       "</div>"
      ],
      "text/plain": [
       "        distance_from_home  distance_from_last_transaction  \\\n",
       "0                57.877857                        0.311140   \n",
       "1                10.829943                        0.175592   \n",
       "2                 5.091079                        0.805153   \n",
       "3                 2.247564                        5.600044   \n",
       "4                44.190936                        0.566486   \n",
       "...                    ...                             ...   \n",
       "999995            2.207101                        0.112651   \n",
       "999996           19.872726                        2.683904   \n",
       "999997            2.914857                        1.472687   \n",
       "999998            4.258729                        0.242023   \n",
       "999999           58.108125                        0.318110   \n",
       "\n",
       "        ratio_to_median_purchase_price  repeat_retailer  used_chip  \\\n",
       "0                             1.945940              1.0        1.0   \n",
       "1                             1.294219              1.0        0.0   \n",
       "2                             0.427715              1.0        0.0   \n",
       "3                             0.362663              1.0        1.0   \n",
       "4                             2.222767              1.0        1.0   \n",
       "...                                ...              ...        ...   \n",
       "999995                        1.626798              1.0        1.0   \n",
       "999996                        2.778303              1.0        1.0   \n",
       "999997                        0.218075              1.0        1.0   \n",
       "999998                        0.475822              1.0        0.0   \n",
       "999999                        0.386920              1.0        1.0   \n",
       "\n",
       "        used_pin_number  online_order  fraud  \n",
       "0                   0.0           0.0    0.0  \n",
       "1                   0.0           0.0    0.0  \n",
       "2                   0.0           1.0    0.0  \n",
       "3                   0.0           1.0    0.0  \n",
       "4                   0.0           1.0    0.0  \n",
       "...                 ...           ...    ...  \n",
       "999995              0.0           0.0    0.0  \n",
       "999996              0.0           0.0    0.0  \n",
       "999997              0.0           1.0    0.0  \n",
       "999998              0.0           1.0    0.0  \n",
       "999999              0.0           1.0    0.0  \n",
       "\n",
       "[1000000 rows x 8 columns]"
      ]
     },
     "execution_count": 172,
     "metadata": {},
     "output_type": "execute_result"
    }
   ],
   "source": [
    "print(\"Dataframe shape:\", df2.shape)\n",
    "df2"
   ]
  },
  {
   "cell_type": "code",
   "execution_count": 173,
   "metadata": {},
   "outputs": [
    {
     "name": "stdout",
     "output_type": "stream",
     "text": [
      "<class 'pandas.core.frame.DataFrame'>\n",
      "RangeIndex: 1000000 entries, 0 to 999999\n",
      "Data columns (total 8 columns):\n",
      " #   Column                          Non-Null Count    Dtype  \n",
      "---  ------                          --------------    -----  \n",
      " 0   distance_from_home              1000000 non-null  float64\n",
      " 1   distance_from_last_transaction  1000000 non-null  float64\n",
      " 2   ratio_to_median_purchase_price  1000000 non-null  float64\n",
      " 3   repeat_retailer                 1000000 non-null  float64\n",
      " 4   used_chip                       1000000 non-null  float64\n",
      " 5   used_pin_number                 1000000 non-null  float64\n",
      " 6   online_order                    1000000 non-null  float64\n",
      " 7   fraud                           1000000 non-null  float64\n",
      "dtypes: float64(8)\n",
      "memory usage: 61.0 MB\n"
     ]
    }
   ],
   "source": [
    "df2.info()"
   ]
  },
  {
   "cell_type": "code",
   "execution_count": 174,
   "metadata": {},
   "outputs": [
    {
     "data": {
      "text/plain": [
       "distance_from_home                0\n",
       "distance_from_last_transaction    0\n",
       "ratio_to_median_purchase_price    0\n",
       "repeat_retailer                   0\n",
       "used_chip                         0\n",
       "used_pin_number                   0\n",
       "online_order                      0\n",
       "fraud                             0\n",
       "dtype: int64"
      ]
     },
     "execution_count": 174,
     "metadata": {},
     "output_type": "execute_result"
    }
   ],
   "source": [
    "df2.isna().sum()"
   ]
  },
  {
   "cell_type": "markdown",
   "metadata": {},
   "source": [
    "There are no missing values in the dataset."
   ]
  },
  {
   "cell_type": "code",
   "execution_count": 175,
   "metadata": {},
   "outputs": [
    {
     "data": {
      "text/plain": [
       "distance_from_home                1000000\n",
       "distance_from_last_transaction    1000000\n",
       "ratio_to_median_purchase_price    1000000\n",
       "repeat_retailer                         2\n",
       "used_chip                               2\n",
       "used_pin_number                         2\n",
       "online_order                            2\n",
       "fraud                                   2\n",
       "dtype: int64"
      ]
     },
     "execution_count": 175,
     "metadata": {},
     "output_type": "execute_result"
    }
   ],
   "source": [
    "df2.nunique()"
   ]
  },
  {
   "cell_type": "code",
   "execution_count": 176,
   "metadata": {},
   "outputs": [],
   "source": [
    "df2_log = df2.copy()\n",
    "\n",
    "for column in [0, 1, 2]:\n",
    "    df2_log.iloc[:, column] = np.log10(df2.iloc[:, column])"
   ]
  },
  {
   "cell_type": "code",
   "execution_count": 177,
   "metadata": {},
   "outputs": [
    {
     "name": "stderr",
     "output_type": "stream",
     "text": [
      "D:\\Desktop\\Anaconda\\lib\\site-packages\\ipykernel_launcher.py:6: UserWarning: \n",
      "\n",
      "`distplot` is a deprecated function and will be removed in seaborn v0.14.0.\n",
      "\n",
      "Please adapt your code to use either `displot` (a figure-level function with\n",
      "similar flexibility) or `histplot` (an axes-level function for histograms).\n",
      "\n",
      "For a guide to updating your code to use the new functions, please see\n",
      "https://gist.github.com/mwaskom/de44147ed2974457ad6372750bbe5751\n",
      "\n",
      "  \n",
      "D:\\Desktop\\Anaconda\\lib\\site-packages\\matplotlib\\cbook\\__init__.py:1402: FutureWarning: Support for multi-dimensional indexing (e.g. `obj[:, None]`) is deprecated and will be removed in a future version.  Convert to a numpy array before indexing instead.\n",
      "  x[:, None]\n",
      "D:\\Desktop\\Anaconda\\lib\\site-packages\\matplotlib\\axes\\_base.py:276: FutureWarning: Support for multi-dimensional indexing (e.g. `obj[:, None]`) is deprecated and will be removed in a future version.  Convert to a numpy array before indexing instead.\n",
      "  x = x[:, np.newaxis]\n",
      "D:\\Desktop\\Anaconda\\lib\\site-packages\\matplotlib\\axes\\_base.py:278: FutureWarning: Support for multi-dimensional indexing (e.g. `obj[:, None]`) is deprecated and will be removed in a future version.  Convert to a numpy array before indexing instead.\n",
      "  y = y[:, np.newaxis]\n"
     ]
    },
    {
     "data": {
      "image/png": "[encoded data removed]",
      "text/plain": [
       "<Figure size 432x288 with 1 Axes>"
      ]
     },
     "metadata": {
      "needs_background": "light"
     },
     "output_type": "display_data"
    },
    {
     "name": "stderr",
     "output_type": "stream",
     "text": [
      "D:\\Desktop\\Anaconda\\lib\\site-packages\\ipykernel_launcher.py:6: UserWarning: \n",
      "\n",
      "`distplot` is a deprecated function and will be removed in seaborn v0.14.0.\n",
      "\n",
      "Please adapt your code to use either `displot` (a figure-level function with\n",
      "similar flexibility) or `histplot` (an axes-level function for histograms).\n",
      "\n",
      "For a guide to updating your code to use the new functions, please see\n",
      "https://gist.github.com/mwaskom/de44147ed2974457ad6372750bbe5751\n",
      "\n",
      "  \n",
      "D:\\Desktop\\Anaconda\\lib\\site-packages\\matplotlib\\cbook\\__init__.py:1402: FutureWarning: Support for multi-dimensional indexing (e.g. `obj[:, None]`) is deprecated and will be removed in a future version.  Convert to a numpy array before indexing instead.\n",
      "  x[:, None]\n",
      "D:\\Desktop\\Anaconda\\lib\\site-packages\\matplotlib\\axes\\_base.py:276: FutureWarning: Support for multi-dimensional indexing (e.g. `obj[:, None]`) is deprecated and will be removed in a future version.  Convert to a numpy array before indexing instead.\n",
      "  x = x[:, np.newaxis]\n",
      "D:\\Desktop\\Anaconda\\lib\\site-packages\\matplotlib\\axes\\_base.py:278: FutureWarning: Support for multi-dimensional indexing (e.g. `obj[:, None]`) is deprecated and will be removed in a future version.  Convert to a numpy array before indexing instead.\n",
      "  y = y[:, np.newaxis]\n"
     ]
    },
    {
     "data": {
      "image/png": "[encoded data removed]",
      "text/plain": [
       "<Figure size 432x288 with 1 Axes>"
      ]
     },
     "metadata": {
      "needs_background": "light"
     },
     "output_type": "display_data"
    },
    {
     "name": "stderr",
     "output_type": "stream",
     "text": [
      "D:\\Desktop\\Anaconda\\lib\\site-packages\\ipykernel_launcher.py:6: UserWarning: \n",
      "\n",
      "`distplot` is a deprecated function and will be removed in seaborn v0.14.0.\n",
      "\n",
      "Please adapt your code to use either `displot` (a figure-level function with\n",
      "similar flexibility) or `histplot` (an axes-level function for histograms).\n",
      "\n",
      "For a guide to updating your code to use the new functions, please see\n",
      "https://gist.github.com/mwaskom/de44147ed2974457ad6372750bbe5751\n",
      "\n",
      "  \n",
      "D:\\Desktop\\Anaconda\\lib\\site-packages\\matplotlib\\cbook\\__init__.py:1402: FutureWarning: Support for multi-dimensional indexing (e.g. `obj[:, None]`) is deprecated and will be removed in a future version.  Convert to a numpy array before indexing instead.\n",
      "  x[:, None]\n",
      "D:\\Desktop\\Anaconda\\lib\\site-packages\\matplotlib\\axes\\_base.py:276: FutureWarning: Support for multi-dimensional indexing (e.g. `obj[:, None]`) is deprecated and will be removed in a future version.  Convert to a numpy array before indexing instead.\n",
      "  x = x[:, np.newaxis]\n",
      "D:\\Desktop\\Anaconda\\lib\\site-packages\\matplotlib\\axes\\_base.py:278: FutureWarning: Support for multi-dimensional indexing (e.g. `obj[:, None]`) is deprecated and will be removed in a future version.  Convert to a numpy array before indexing instead.\n",
      "  y = y[:, np.newaxis]\n"
     ]
    },
    {
     "data": {
      "image/png": "[encoded data removed]",
      "text/plain": [
       "<Figure size 432x288 with 1 Axes>"
      ]
     },
     "metadata": {
      "needs_background": "light"
     },
     "output_type": "display_data"
    }
   ],
   "source": [
    "#!pip install -U seaborn\n",
    "numerical_columns = [\"distance_from_home\", \"distance_from_last_transaction\", \"ratio_to_median_purchase_price\"]\n",
    "for column in numerical_columns:\n",
    "    plt.figure()\n",
    "    plot = df2_log[column]\n",
    "    sns.distplot(plot, bins=10, kde=True)\n",
    "    plt.show()"
   ]
  },
  {
   "cell_type": "markdown",
   "metadata": {},
   "source": [
    "**Let's check if the distance and ratio columns have negative values.**"
   ]
  },
  {
   "cell_type": "code",
   "execution_count": 178,
   "metadata": {},
   "outputs": [
    {
     "name": "stdout",
     "output_type": "stream",
     "text": [
      "distance_from_home has no negative values.\n",
      "distance_from_last_transaction has no negative values.\n",
      "ratio_to_median_purchase_price has no negative values.\n"
     ]
    }
   ],
   "source": [
    "for column in numerical_columns:\n",
    "    if len(df2[df2[column] < 0]) == 0:\n",
    "        print(column, \"has no negative values.\")\n",
    "    else:\n",
    "        print(column, \"has negative values.\")"
   ]
  },
  {
   "cell_type": "markdown",
   "metadata": {},
   "source": [
    "There are no duplicate values in the dataset"
   ]
  },
  {
   "cell_type": "code",
   "execution_count": 179,
   "metadata": {},
   "outputs": [
    {
     "data": {
      "text/html": [
       "<div>\n",
       "<style scoped>\n",
       "    .dataframe tbody tr th:only-of-type {\n",
       "        vertical-align: middle;\n",
       "    }\n",
       "\n",
       "    .dataframe tbody tr th {\n",
       "        vertical-align: top;\n",
       "    }\n",
       "\n",
       "    .dataframe thead th {\n",
       "        text-align: right;\n",
       "    }\n",
       "</style>\n",
       "<table border=\"1\" class=\"dataframe\">\n",
       "  <thead>\n",
       "    <tr style=\"text-align: right;\">\n",
       "      <th></th>\n",
       "      <th>distance_from_home</th>\n",
       "      <th>distance_from_last_transaction</th>\n",
       "      <th>ratio_to_median_purchase_price</th>\n",
       "      <th>repeat_retailer</th>\n",
       "      <th>used_chip</th>\n",
       "      <th>used_pin_number</th>\n",
       "      <th>online_order</th>\n",
       "      <th>fraud</th>\n",
       "    </tr>\n",
       "  </thead>\n",
       "  <tbody>\n",
       "    <tr>\n",
       "      <th>count</th>\n",
       "      <td>1000000.000000</td>\n",
       "      <td>1000000.000000</td>\n",
       "      <td>1000000.000000</td>\n",
       "      <td>1000000.000000</td>\n",
       "      <td>1000000.000000</td>\n",
       "      <td>1000000.000000</td>\n",
       "      <td>1000000.000000</td>\n",
       "      <td>1000000.000000</td>\n",
       "    </tr>\n",
       "    <tr>\n",
       "      <th>mean</th>\n",
       "      <td>26.628792</td>\n",
       "      <td>5.036519</td>\n",
       "      <td>1.824182</td>\n",
       "      <td>0.881536</td>\n",
       "      <td>0.350399</td>\n",
       "      <td>0.100608</td>\n",
       "      <td>0.650552</td>\n",
       "      <td>0.087403</td>\n",
       "    </tr>\n",
       "    <tr>\n",
       "      <th>std</th>\n",
       "      <td>65.390784</td>\n",
       "      <td>25.843093</td>\n",
       "      <td>2.799589</td>\n",
       "      <td>0.323157</td>\n",
       "      <td>0.477095</td>\n",
       "      <td>0.300809</td>\n",
       "      <td>0.476796</td>\n",
       "      <td>0.282425</td>\n",
       "    </tr>\n",
       "    <tr>\n",
       "      <th>min</th>\n",
       "      <td>0.004874</td>\n",
       "      <td>0.000118</td>\n",
       "      <td>0.004399</td>\n",
       "      <td>0.000000</td>\n",
       "      <td>0.000000</td>\n",
       "      <td>0.000000</td>\n",
       "      <td>0.000000</td>\n",
       "      <td>0.000000</td>\n",
       "    </tr>\n",
       "    <tr>\n",
       "      <th>25%</th>\n",
       "      <td>3.878008</td>\n",
       "      <td>0.296671</td>\n",
       "      <td>0.475673</td>\n",
       "      <td>1.000000</td>\n",
       "      <td>0.000000</td>\n",
       "      <td>0.000000</td>\n",
       "      <td>0.000000</td>\n",
       "      <td>0.000000</td>\n",
       "    </tr>\n",
       "    <tr>\n",
       "      <th>50%</th>\n",
       "      <td>9.967760</td>\n",
       "      <td>0.998650</td>\n",
       "      <td>0.997717</td>\n",
       "      <td>1.000000</td>\n",
       "      <td>0.000000</td>\n",
       "      <td>0.000000</td>\n",
       "      <td>1.000000</td>\n",
       "      <td>0.000000</td>\n",
       "    </tr>\n",
       "    <tr>\n",
       "      <th>75%</th>\n",
       "      <td>25.743985</td>\n",
       "      <td>3.355748</td>\n",
       "      <td>2.096370</td>\n",
       "      <td>1.000000</td>\n",
       "      <td>1.000000</td>\n",
       "      <td>0.000000</td>\n",
       "      <td>1.000000</td>\n",
       "      <td>0.000000</td>\n",
       "    </tr>\n",
       "    <tr>\n",
       "      <th>max</th>\n",
       "      <td>10632.723672</td>\n",
       "      <td>11851.104565</td>\n",
       "      <td>267.802942</td>\n",
       "      <td>1.000000</td>\n",
       "      <td>1.000000</td>\n",
       "      <td>1.000000</td>\n",
       "      <td>1.000000</td>\n",
       "      <td>1.000000</td>\n",
       "    </tr>\n",
       "  </tbody>\n",
       "</table>\n",
       "</div>"
      ],
      "text/plain": [
       "       distance_from_home  distance_from_last_transaction  \\\n",
       "count      1000000.000000                  1000000.000000   \n",
       "mean            26.628792                        5.036519   \n",
       "std             65.390784                       25.843093   \n",
       "min              0.004874                        0.000118   \n",
       "25%              3.878008                        0.296671   \n",
       "50%              9.967760                        0.998650   \n",
       "75%             25.743985                        3.355748   \n",
       "max          10632.723672                    11851.104565   \n",
       "\n",
       "       ratio_to_median_purchase_price  repeat_retailer       used_chip  \\\n",
       "count                  1000000.000000   1000000.000000  1000000.000000   \n",
       "mean                         1.824182         0.881536        0.350399   \n",
       "std                          2.799589         0.323157        0.477095   \n",
       "min                          0.004399         0.000000        0.000000   \n",
       "25%                          0.475673         1.000000        0.000000   \n",
       "50%                          0.997717         1.000000        0.000000   \n",
       "75%                          2.096370         1.000000        1.000000   \n",
       "max                        267.802942         1.000000        1.000000   \n",
       "\n",
       "       used_pin_number    online_order           fraud  \n",
       "count   1000000.000000  1000000.000000  1000000.000000  \n",
       "mean          0.100608        0.650552        0.087403  \n",
       "std           0.300809        0.476796        0.282425  \n",
       "min           0.000000        0.000000        0.000000  \n",
       "25%           0.000000        0.000000        0.000000  \n",
       "50%           0.000000        1.000000        0.000000  \n",
       "75%           0.000000        1.000000        0.000000  \n",
       "max           1.000000        1.000000        1.000000  "
      ]
     },
     "execution_count": 179,
     "metadata": {},
     "output_type": "execute_result"
    }
   ],
   "source": [
    "df2.describe()"
   ]
  },
  {
   "cell_type": "code",
   "execution_count": 180,
   "metadata": {},
   "outputs": [
    {
     "data": {
      "text/plain": [
       "87403"
      ]
     },
     "execution_count": 180,
     "metadata": {},
     "output_type": "execute_result"
    }
   ],
   "source": [
    "#Number of fraud transactions\n",
    "df2[df2[\"fraud\"] == 1].fraud.count()"
   ]
  },
  {
   "cell_type": "code",
   "execution_count": 181,
   "metadata": {},
   "outputs": [
    {
     "name": "stdout",
     "output_type": "stream",
     "text": [
      "Number of fraud transactions: 87403\n",
      "Number of non-fraud transactions: 912597\n",
      "Fraud percent: 8.7403\n"
     ]
    }
   ],
   "source": [
    "f_count = df2[df2[\"fraud\"] == 1][\"fraud\"].count()\n",
    "nf_count = df2[df2[\"fraud\"] == 0][\"fraud\"].count()\n",
    "print(\"Number of fraud transactions:\", f_count)\n",
    "print(\"Number of non-fraud transactions:\", nf_count)\n",
    "print(\"Fraud percent:\", f_count / (f_count + nf_count) * 100)"
   ]
  },
  {
   "cell_type": "code",
   "execution_count": 182,
   "metadata": {},
   "outputs": [
    {
     "data": {
      "text/plain": [
       "<BarContainer object of 1 artists>"
      ]
     },
     "execution_count": 182,
     "metadata": {},
     "output_type": "execute_result"
    },
    {
     "data": {
      "image/png": "[encoded data removed]",
      "text/plain": [
       "<Figure size 432x288 with 1 Axes>"
      ]
     },
     "metadata": {
      "needs_background": "light"
     },
     "output_type": "display_data"
    }
   ],
   "source": [
    "categories = [\"Non-Fraud\", \"Fraud\"]\n",
    "xpos = np.array([0, 1])\n",
    "plt.xticks(xpos, categories)\n",
    "plt.xlabel(\"Transaction Type\")\n",
    "plt.ylabel(\"Transaction Count\")\n",
    "plt.title(\"Transactions by Type\")\n",
    "plt.bar(xpos[0], nf_count, width= 0.7, color = \"g\")\n",
    "plt.bar(xpos[1], f_count, width = 0.7, color=\"r\")"
   ]
  },
  {
   "cell_type": "code",
   "execution_count": 183,
   "metadata": {},
   "outputs": [
    {
     "data": {
      "text/plain": [
       "([<matplotlib.patches.Wedge at 0x2390aabe6d8>,\n",
       "  <matplotlib.patches.Wedge at 0x2390aabedd8>],\n",
       " [Text(-1.058791700494653, 0.29826185636725505, 'Non-Fraud'),\n",
       "  Text(1.1550454914487123, -0.3253765705824602, 'Fraud')],\n",
       " [Text(-0.5775227457243561, 0.16268828529123003, '91.26%'),\n",
       "  Text(0.6737765366784155, -0.1898029995064351, '8.74%')])"
      ]
     },
     "execution_count": 183,
     "metadata": {},
     "output_type": "execute_result"
    },
    {
     "data": {
      "image/png": "[encoded data removed]",
      "text/plain": [
       "<Figure size 432x288 with 1 Axes>"
      ]
     },
     "metadata": {},
     "output_type": "display_data"
    }
   ],
   "source": [
    "plt.pie(df2[\"fraud\"].value_counts(), labels = categories, autopct = \"%.2f%%\", explode= (0, 0.1), colors = (\"g\", \"r\"))"
   ]
  },
  {
   "cell_type": "markdown",
   "metadata": {},
   "source": [
    "**As it can be seen from the charts, number of fraud transactions are significantly low when compared to non-fraud transactions, which means the data is quite inbalance. We will inspect this issue later. First, let's take a further look at the fraud transactions.**"
   ]
  },
  {
   "cell_type": "code",
   "execution_count": 184,
   "metadata": {},
   "outputs": [],
   "source": [
    "fraud_df = df2[df2[\"fraud\"] == 1]"
   ]
  },
  {
   "cell_type": "code",
   "execution_count": 185,
   "metadata": {},
   "outputs": [
    {
     "data": {
      "text/html": [
       "<div>\n",
       "<style scoped>\n",
       "    .dataframe tbody tr th:only-of-type {\n",
       "        vertical-align: middle;\n",
       "    }\n",
       "\n",
       "    .dataframe tbody tr th {\n",
       "        vertical-align: top;\n",
       "    }\n",
       "\n",
       "    .dataframe thead th {\n",
       "        text-align: right;\n",
       "    }\n",
       "</style>\n",
       "<table border=\"1\" class=\"dataframe\">\n",
       "  <thead>\n",
       "    <tr style=\"text-align: right;\">\n",
       "      <th></th>\n",
       "      <th>distance_from_home</th>\n",
       "      <th>distance_from_last_transaction</th>\n",
       "      <th>ratio_to_median_purchase_price</th>\n",
       "      <th>repeat_retailer</th>\n",
       "      <th>used_chip</th>\n",
       "      <th>used_pin_number</th>\n",
       "      <th>online_order</th>\n",
       "      <th>fraud</th>\n",
       "    </tr>\n",
       "  </thead>\n",
       "  <tbody>\n",
       "    <tr>\n",
       "      <th>count</th>\n",
       "      <td>87403.000000</td>\n",
       "      <td>87403.000000</td>\n",
       "      <td>87403.000000</td>\n",
       "      <td>87403.000000</td>\n",
       "      <td>87403.000000</td>\n",
       "      <td>87403.000000</td>\n",
       "      <td>87403.000000</td>\n",
       "      <td>87403.0</td>\n",
       "    </tr>\n",
       "    <tr>\n",
       "      <th>mean</th>\n",
       "      <td>66.261876</td>\n",
       "      <td>12.712185</td>\n",
       "      <td>6.006323</td>\n",
       "      <td>0.880119</td>\n",
       "      <td>0.256399</td>\n",
       "      <td>0.003123</td>\n",
       "      <td>0.946318</td>\n",
       "      <td>1.0</td>\n",
       "    </tr>\n",
       "    <tr>\n",
       "      <th>std</th>\n",
       "      <td>134.391608</td>\n",
       "      <td>47.997697</td>\n",
       "      <td>5.564320</td>\n",
       "      <td>0.324825</td>\n",
       "      <td>0.436647</td>\n",
       "      <td>0.055801</td>\n",
       "      <td>0.225391</td>\n",
       "      <td>0.0</td>\n",
       "    </tr>\n",
       "    <tr>\n",
       "      <th>min</th>\n",
       "      <td>0.025847</td>\n",
       "      <td>0.000407</td>\n",
       "      <td>0.011966</td>\n",
       "      <td>0.000000</td>\n",
       "      <td>0.000000</td>\n",
       "      <td>0.000000</td>\n",
       "      <td>0.000000</td>\n",
       "      <td>1.0</td>\n",
       "    </tr>\n",
       "    <tr>\n",
       "      <th>25%</th>\n",
       "      <td>4.585729</td>\n",
       "      <td>0.328199</td>\n",
       "      <td>3.500270</td>\n",
       "      <td>1.000000</td>\n",
       "      <td>0.000000</td>\n",
       "      <td>0.000000</td>\n",
       "      <td>1.000000</td>\n",
       "      <td>1.0</td>\n",
       "    </tr>\n",
       "    <tr>\n",
       "      <th>50%</th>\n",
       "      <td>15.454219</td>\n",
       "      <td>1.157631</td>\n",
       "      <td>5.071294</td>\n",
       "      <td>1.000000</td>\n",
       "      <td>0.000000</td>\n",
       "      <td>0.000000</td>\n",
       "      <td>1.000000</td>\n",
       "      <td>1.0</td>\n",
       "    </tr>\n",
       "    <tr>\n",
       "      <th>75%</th>\n",
       "      <td>101.110104</td>\n",
       "      <td>4.598504</td>\n",
       "      <td>7.331222</td>\n",
       "      <td>1.000000</td>\n",
       "      <td>1.000000</td>\n",
       "      <td>0.000000</td>\n",
       "      <td>1.000000</td>\n",
       "      <td>1.0</td>\n",
       "    </tr>\n",
       "    <tr>\n",
       "      <th>max</th>\n",
       "      <td>10632.723672</td>\n",
       "      <td>2160.499922</td>\n",
       "      <td>266.689692</td>\n",
       "      <td>1.000000</td>\n",
       "      <td>1.000000</td>\n",
       "      <td>1.000000</td>\n",
       "      <td>1.000000</td>\n",
       "      <td>1.0</td>\n",
       "    </tr>\n",
       "  </tbody>\n",
       "</table>\n",
       "</div>"
      ],
      "text/plain": [
       "       distance_from_home  distance_from_last_transaction  \\\n",
       "count        87403.000000                    87403.000000   \n",
       "mean            66.261876                       12.712185   \n",
       "std            134.391608                       47.997697   \n",
       "min              0.025847                        0.000407   \n",
       "25%              4.585729                        0.328199   \n",
       "50%             15.454219                        1.157631   \n",
       "75%            101.110104                        4.598504   \n",
       "max          10632.723672                     2160.499922   \n",
       "\n",
       "       ratio_to_median_purchase_price  repeat_retailer     used_chip  \\\n",
       "count                    87403.000000     87403.000000  87403.000000   \n",
       "mean                         6.006323         0.880119      0.256399   \n",
       "std                          5.564320         0.324825      0.436647   \n",
       "min                          0.011966         0.000000      0.000000   \n",
       "25%                          3.500270         1.000000      0.000000   \n",
       "50%                          5.071294         1.000000      0.000000   \n",
       "75%                          7.331222         1.000000      1.000000   \n",
       "max                        266.689692         1.000000      1.000000   \n",
       "\n",
       "       used_pin_number  online_order    fraud  \n",
       "count     87403.000000  87403.000000  87403.0  \n",
       "mean          0.003123      0.946318      1.0  \n",
       "std           0.055801      0.225391      0.0  \n",
       "min           0.000000      0.000000      1.0  \n",
       "25%           0.000000      1.000000      1.0  \n",
       "50%           0.000000      1.000000      1.0  \n",
       "75%           0.000000      1.000000      1.0  \n",
       "max           1.000000      1.000000      1.0  "
      ]
     },
     "execution_count": 185,
     "metadata": {},
     "output_type": "execute_result"
    }
   ],
   "source": [
    "fraud_df.describe()"
   ]
  },
  {
   "cell_type": "code",
   "execution_count": 186,
   "metadata": {},
   "outputs": [
    {
     "data": {
      "text/plain": [
       "<matplotlib.axes._subplots.AxesSubplot at 0x23909436a58>"
      ]
     },
     "execution_count": 186,
     "metadata": {},
     "output_type": "execute_result"
    },
    {
     "data": {
      "image/png": "[encoded data removed]",
      "text/plain": [
       "<Figure size 1440x1440 with 4 Axes>"
      ]
     },
     "metadata": {
      "needs_background": "light"
     },
     "output_type": "display_data"
    }
   ],
   "source": [
    "plt.figure(figsize = (20,20))\n",
    "\n",
    "plt.subplot(2,2,1)\n",
    "sns.countplot(x = \"repeat_retailer\", palette = \"Set2\", data = fraud_df)\n",
    "\n",
    "plt.subplot(2,2,2)\n",
    "sns.countplot(x = \"used_chip\", palette = \"Set2\", data = fraud_df)\n",
    "\n",
    "plt.subplot(2,2,3)\n",
    "sns.countplot(x = \"used_pin_number\", palette = \"Set2\", data = fraud_df)\n",
    "\n",
    "plt.subplot(2,2,4)\n",
    "sns.countplot(x = \"online_order\", palette = \"Set2\", data = fraud_df)"
   ]
  },
  {
   "cell_type": "code",
   "execution_count": 187,
   "metadata": {},
   "outputs": [
    {
     "data": {
      "text/plain": [
       "Text(0.5, 1.0, 'Was the transaction online?')"
      ]
     },
     "execution_count": 187,
     "metadata": {},
     "output_type": "execute_result"
    },
    {
     "data": {
      "image/png": "[encoded data removed]",
      "text/plain": [
       "<Figure size 1440x1440 with 4 Axes>"
      ]
     },
     "metadata": {},
     "output_type": "display_data"
    }
   ],
   "source": [
    "plt.figure(figsize = (20,20))\n",
    "\n",
    "plt.subplot(2,2,1)\n",
    "plt.pie(fraud_df[\"repeat_retailer\"].value_counts(), labels = (\"Yes\", \"No\"), autopct = \"%.2f%%\", explode = (0, 0.1))\n",
    "plt.title(\"NE\")\n",
    "\n",
    "plt.subplot(2,2,2)\n",
    "plt.pie(fraud_df[\"used_chip\"].value_counts(), labels = (\"Yes\", \"No\"), autopct = \"%.2f%%\", explode = (0, 0.1))\n",
    "plt.title(\"Did the credit card chip used?\")\n",
    "\n",
    "plt.subplot(2,2,3)\n",
    "plt.pie(fraud_df[\"used_pin_number\"].value_counts(), labels = (\"Yes\", \"No\"), autopct = \"%.2f%%\", explode = (0, 0.1))\n",
    "plt.title(\"Did the credit card pin number used?\")\n",
    "\n",
    "plt.subplot(2,2,4)\n",
    "plt.pie(fraud_df[\"online_order\"].value_counts(), labels = (\"Yes\", \"No\"), autopct = \"%.2f%%\", explode = (0, 0.1))\n",
    "plt.title(\"Was the transaction online?\")"
   ]
  },
  {
   "cell_type": "markdown",
   "metadata": {},
   "source": [
    "**As mentioned earlier, there are significantly less fraud transaction data than non-fraud transaction data. It is possible to \"fix\" this by lowering non-fraud transactions or increasing fraud transactions. In this study, increasing fraud transaction will be used by SMOTE (Synthetic Minority Oversampling Technique)**\n",
    "\n",
    "**Raw data also will be analyzed to better understand and compare these two outcomes.**"
   ]
  },
  {
   "cell_type": "markdown",
   "metadata": {},
   "source": [
    "## Oversampling Technique and Model\n",
    "\n",
    "\n",
    "### Splitting the features and target"
   ]
  },
  {
   "cell_type": "code",
   "execution_count": 188,
   "metadata": {},
   "outputs": [],
   "source": [
    "x = df2.drop(\"fraud\", axis = 1).values\n",
    "y = df2[\"fraud\"].values"
   ]
  },
  {
   "cell_type": "markdown",
   "metadata": {},
   "source": [
    "\n",
    "\n",
    "## Oversampling"
   ]
  },
  {
   "cell_type": "code",
   "execution_count": 189,
   "metadata": {},
   "outputs": [],
   "source": [
    "from imblearn.over_sampling import SMOTE\n",
    "smote = SMOTE(random_state=39)\n",
    "non_fraud_over, fraud_over = smote.fit_resample(x, y)"
   ]
  },
  {
   "cell_type": "code",
   "execution_count": 190,
   "metadata": {},
   "outputs": [
    {
     "data": {
      "text/html": [
       "<div>\n",
       "<style scoped>\n",
       "    .dataframe tbody tr th:only-of-type {\n",
       "        vertical-align: middle;\n",
       "    }\n",
       "\n",
       "    .dataframe tbody tr th {\n",
       "        vertical-align: top;\n",
       "    }\n",
       "\n",
       "    .dataframe thead th {\n",
       "        text-align: right;\n",
       "    }\n",
       "</style>\n",
       "<table border=\"1\" class=\"dataframe\">\n",
       "  <thead>\n",
       "    <tr style=\"text-align: right;\">\n",
       "      <th></th>\n",
       "      <th>distance_from_home</th>\n",
       "      <th>distance_from_last_transaction</th>\n",
       "      <th>ratio_to_median_purchase_price</th>\n",
       "      <th>repeat_retailer</th>\n",
       "      <th>used_chip</th>\n",
       "      <th>used_pin_number</th>\n",
       "      <th>online_order</th>\n",
       "    </tr>\n",
       "  </thead>\n",
       "  <tbody>\n",
       "    <tr>\n",
       "      <th>0</th>\n",
       "      <td>57.877857</td>\n",
       "      <td>0.311140</td>\n",
       "      <td>1.945940</td>\n",
       "      <td>1.0</td>\n",
       "      <td>1.000000</td>\n",
       "      <td>0.0</td>\n",
       "      <td>0.0</td>\n",
       "    </tr>\n",
       "    <tr>\n",
       "      <th>1</th>\n",
       "      <td>10.829943</td>\n",
       "      <td>0.175592</td>\n",
       "      <td>1.294219</td>\n",
       "      <td>1.0</td>\n",
       "      <td>0.000000</td>\n",
       "      <td>0.0</td>\n",
       "      <td>0.0</td>\n",
       "    </tr>\n",
       "    <tr>\n",
       "      <th>2</th>\n",
       "      <td>5.091079</td>\n",
       "      <td>0.805153</td>\n",
       "      <td>0.427715</td>\n",
       "      <td>1.0</td>\n",
       "      <td>0.000000</td>\n",
       "      <td>0.0</td>\n",
       "      <td>1.0</td>\n",
       "    </tr>\n",
       "    <tr>\n",
       "      <th>3</th>\n",
       "      <td>2.247564</td>\n",
       "      <td>5.600044</td>\n",
       "      <td>0.362663</td>\n",
       "      <td>1.0</td>\n",
       "      <td>1.000000</td>\n",
       "      <td>0.0</td>\n",
       "      <td>1.0</td>\n",
       "    </tr>\n",
       "    <tr>\n",
       "      <th>4</th>\n",
       "      <td>44.190936</td>\n",
       "      <td>0.566486</td>\n",
       "      <td>2.222767</td>\n",
       "      <td>1.0</td>\n",
       "      <td>1.000000</td>\n",
       "      <td>0.0</td>\n",
       "      <td>1.0</td>\n",
       "    </tr>\n",
       "    <tr>\n",
       "      <th>...</th>\n",
       "      <td>...</td>\n",
       "      <td>...</td>\n",
       "      <td>...</td>\n",
       "      <td>...</td>\n",
       "      <td>...</td>\n",
       "      <td>...</td>\n",
       "      <td>...</td>\n",
       "    </tr>\n",
       "    <tr>\n",
       "      <th>1825189</th>\n",
       "      <td>0.865098</td>\n",
       "      <td>1.341068</td>\n",
       "      <td>4.173964</td>\n",
       "      <td>0.0</td>\n",
       "      <td>1.000000</td>\n",
       "      <td>0.0</td>\n",
       "      <td>1.0</td>\n",
       "    </tr>\n",
       "    <tr>\n",
       "      <th>1825190</th>\n",
       "      <td>4.803252</td>\n",
       "      <td>0.744443</td>\n",
       "      <td>6.650998</td>\n",
       "      <td>1.0</td>\n",
       "      <td>1.000000</td>\n",
       "      <td>0.0</td>\n",
       "      <td>1.0</td>\n",
       "    </tr>\n",
       "    <tr>\n",
       "      <th>1825191</th>\n",
       "      <td>12.536102</td>\n",
       "      <td>119.006991</td>\n",
       "      <td>4.094842</td>\n",
       "      <td>1.0</td>\n",
       "      <td>0.835731</td>\n",
       "      <td>0.0</td>\n",
       "      <td>1.0</td>\n",
       "    </tr>\n",
       "    <tr>\n",
       "      <th>1825192</th>\n",
       "      <td>389.245617</td>\n",
       "      <td>3.480952</td>\n",
       "      <td>0.922567</td>\n",
       "      <td>1.0</td>\n",
       "      <td>0.000000</td>\n",
       "      <td>0.0</td>\n",
       "      <td>1.0</td>\n",
       "    </tr>\n",
       "    <tr>\n",
       "      <th>1825193</th>\n",
       "      <td>23.440339</td>\n",
       "      <td>0.528913</td>\n",
       "      <td>5.569978</td>\n",
       "      <td>1.0</td>\n",
       "      <td>1.000000</td>\n",
       "      <td>0.0</td>\n",
       "      <td>1.0</td>\n",
       "    </tr>\n",
       "  </tbody>\n",
       "</table>\n",
       "<p>1825194 rows × 7 columns</p>\n",
       "</div>"
      ],
      "text/plain": [
       "         distance_from_home  distance_from_last_transaction  \\\n",
       "0                 57.877857                        0.311140   \n",
       "1                 10.829943                        0.175592   \n",
       "2                  5.091079                        0.805153   \n",
       "3                  2.247564                        5.600044   \n",
       "4                 44.190936                        0.566486   \n",
       "...                     ...                             ...   \n",
       "1825189            0.865098                        1.341068   \n",
       "1825190            4.803252                        0.744443   \n",
       "1825191           12.536102                      119.006991   \n",
       "1825192          389.245617                        3.480952   \n",
       "1825193           23.440339                        0.528913   \n",
       "\n",
       "         ratio_to_median_purchase_price  repeat_retailer  used_chip  \\\n",
       "0                              1.945940              1.0   1.000000   \n",
       "1                              1.294219              1.0   0.000000   \n",
       "2                              0.427715              1.0   0.000000   \n",
       "3                              0.362663              1.0   1.000000   \n",
       "4                              2.222767              1.0   1.000000   \n",
       "...                                 ...              ...        ...   \n",
       "1825189                        4.173964              0.0   1.000000   \n",
       "1825190                        6.650998              1.0   1.000000   \n",
       "1825191                        4.094842              1.0   0.835731   \n",
       "1825192                        0.922567              1.0   0.000000   \n",
       "1825193                        5.569978              1.0   1.000000   \n",
       "\n",
       "         used_pin_number  online_order  \n",
       "0                    0.0           0.0  \n",
       "1                    0.0           0.0  \n",
       "2                    0.0           1.0  \n",
       "3                    0.0           1.0  \n",
       "4                    0.0           1.0  \n",
       "...                  ...           ...  \n",
       "1825189              0.0           1.0  \n",
       "1825190              0.0           1.0  \n",
       "1825191              0.0           1.0  \n",
       "1825192              0.0           1.0  \n",
       "1825193              0.0           1.0  \n",
       "\n",
       "[1825194 rows x 7 columns]"
      ]
     },
     "execution_count": 190,
     "metadata": {},
     "output_type": "execute_result"
    }
   ],
   "source": [
    "non_fraud_over_df = pd.DataFrame(non_fraud_over, columns=[\"distance_from_home\", \"distance_from_last_transaction\",\n",
    "       \"ratio_to_median_purchase_price\", \"repeat_retailer\", \"used_chip\",\n",
    "       \"used_pin_number\", \"online_order\"])\n",
    "non_fraud_over_df"
   ]
  },
  {
   "cell_type": "code",
   "execution_count": 191,
   "metadata": {},
   "outputs": [],
   "source": [
    "non_fraud_over_df[\"fraud\"] = fraud_over\n",
    "df3 = non_fraud_over_df"
   ]
  },
  {
   "cell_type": "code",
   "execution_count": 192,
   "metadata": {},
   "outputs": [
    {
     "name": "stdout",
     "output_type": "stream",
     "text": [
      "df3 shape: (1825194, 8)\n",
      "<class 'pandas.core.frame.DataFrame'>\n",
      "RangeIndex: 1825194 entries, 0 to 1825193\n",
      "Data columns (total 8 columns):\n",
      " #   Column                          Dtype  \n",
      "---  ------                          -----  \n",
      " 0   distance_from_home              float64\n",
      " 1   distance_from_last_transaction  float64\n",
      " 2   ratio_to_median_purchase_price  float64\n",
      " 3   repeat_retailer                 float64\n",
      " 4   used_chip                       float64\n",
      " 5   used_pin_number                 float64\n",
      " 6   online_order                    float64\n",
      " 7   fraud                           float64\n",
      "dtypes: float64(8)\n",
      "memory usage: 111.4 MB\n",
      "None\n"
     ]
    },
    {
     "data": {
      "text/html": [
       "<div>\n",
       "<style scoped>\n",
       "    .dataframe tbody tr th:only-of-type {\n",
       "        vertical-align: middle;\n",
       "    }\n",
       "\n",
       "    .dataframe tbody tr th {\n",
       "        vertical-align: top;\n",
       "    }\n",
       "\n",
       "    .dataframe thead th {\n",
       "        text-align: right;\n",
       "    }\n",
       "</style>\n",
       "<table border=\"1\" class=\"dataframe\">\n",
       "  <thead>\n",
       "    <tr style=\"text-align: right;\">\n",
       "      <th></th>\n",
       "      <th>distance_from_home</th>\n",
       "      <th>distance_from_last_transaction</th>\n",
       "      <th>ratio_to_median_purchase_price</th>\n",
       "      <th>repeat_retailer</th>\n",
       "      <th>used_chip</th>\n",
       "      <th>used_pin_number</th>\n",
       "      <th>online_order</th>\n",
       "      <th>fraud</th>\n",
       "    </tr>\n",
       "  </thead>\n",
       "  <tbody>\n",
       "    <tr>\n",
       "      <th>count</th>\n",
       "      <td>1.825194e+06</td>\n",
       "      <td>1.825194e+06</td>\n",
       "      <td>1.825194e+06</td>\n",
       "      <td>1.825194e+06</td>\n",
       "      <td>1.825194e+06</td>\n",
       "      <td>1.825194e+06</td>\n",
       "      <td>1.825194e+06</td>\n",
       "      <td>1825194.0</td>\n",
       "    </tr>\n",
       "    <tr>\n",
       "      <th>mean</th>\n",
       "      <td>4.442516e+01</td>\n",
       "      <td>8.458492e+00</td>\n",
       "      <td>3.694127e+00</td>\n",
       "      <td>8.809996e-01</td>\n",
       "      <td>3.055032e-01</td>\n",
       "      <td>5.625144e-02</td>\n",
       "      <td>7.852103e-01</td>\n",
       "      <td>0.5</td>\n",
       "    </tr>\n",
       "    <tr>\n",
       "      <th>std</th>\n",
       "      <td>1.018351e+02</td>\n",
       "      <td>3.750252e+01</td>\n",
       "      <td>4.693421e+00</td>\n",
       "      <td>3.232951e-01</td>\n",
       "      <td>4.555445e-01</td>\n",
       "      <td>2.296677e-01</td>\n",
       "      <td>4.080603e-01</td>\n",
       "      <td>0.5</td>\n",
       "    </tr>\n",
       "    <tr>\n",
       "      <th>min</th>\n",
       "      <td>4.874385e-03</td>\n",
       "      <td>1.182816e-04</td>\n",
       "      <td>4.399240e-03</td>\n",
       "      <td>0.000000e+00</td>\n",
       "      <td>0.000000e+00</td>\n",
       "      <td>0.000000e+00</td>\n",
       "      <td>0.000000e+00</td>\n",
       "      <td>0.0</td>\n",
       "    </tr>\n",
       "    <tr>\n",
       "      <th>25%</th>\n",
       "      <td>4.142911e+00</td>\n",
       "      <td>3.112290e-01</td>\n",
       "      <td>6.944836e-01</td>\n",
       "      <td>1.000000e+00</td>\n",
       "      <td>0.000000e+00</td>\n",
       "      <td>0.000000e+00</td>\n",
       "      <td>1.000000e+00</td>\n",
       "      <td>0.0</td>\n",
       "    </tr>\n",
       "    <tr>\n",
       "      <th>50%</th>\n",
       "      <td>1.173429e+01</td>\n",
       "      <td>1.050549e+00</td>\n",
       "      <td>1.993814e+00</td>\n",
       "      <td>1.000000e+00</td>\n",
       "      <td>0.000000e+00</td>\n",
       "      <td>0.000000e+00</td>\n",
       "      <td>1.000000e+00</td>\n",
       "      <td>0.5</td>\n",
       "    </tr>\n",
       "    <tr>\n",
       "      <th>75%</th>\n",
       "      <td>3.774807e+01</td>\n",
       "      <td>3.800466e+00</td>\n",
       "      <td>5.212519e+00</td>\n",
       "      <td>1.000000e+00</td>\n",
       "      <td>1.000000e+00</td>\n",
       "      <td>0.000000e+00</td>\n",
       "      <td>1.000000e+00</td>\n",
       "      <td>1.0</td>\n",
       "    </tr>\n",
       "    <tr>\n",
       "      <th>max</th>\n",
       "      <td>1.063272e+04</td>\n",
       "      <td>1.185110e+04</td>\n",
       "      <td>2.678029e+02</td>\n",
       "      <td>1.000000e+00</td>\n",
       "      <td>1.000000e+00</td>\n",
       "      <td>1.000000e+00</td>\n",
       "      <td>1.000000e+00</td>\n",
       "      <td>1.0</td>\n",
       "    </tr>\n",
       "  </tbody>\n",
       "</table>\n",
       "</div>"
      ],
      "text/plain": [
       "       distance_from_home  distance_from_last_transaction  \\\n",
       "count        1.825194e+06                    1.825194e+06   \n",
       "mean         4.442516e+01                    8.458492e+00   \n",
       "std          1.018351e+02                    3.750252e+01   \n",
       "min          4.874385e-03                    1.182816e-04   \n",
       "25%          4.142911e+00                    3.112290e-01   \n",
       "50%          1.173429e+01                    1.050549e+00   \n",
       "75%          3.774807e+01                    3.800466e+00   \n",
       "max          1.063272e+04                    1.185110e+04   \n",
       "\n",
       "       ratio_to_median_purchase_price  repeat_retailer     used_chip  \\\n",
       "count                    1.825194e+06     1.825194e+06  1.825194e+06   \n",
       "mean                     3.694127e+00     8.809996e-01  3.055032e-01   \n",
       "std                      4.693421e+00     3.232951e-01  4.555445e-01   \n",
       "min                      4.399240e-03     0.000000e+00  0.000000e+00   \n",
       "25%                      6.944836e-01     1.000000e+00  0.000000e+00   \n",
       "50%                      1.993814e+00     1.000000e+00  0.000000e+00   \n",
       "75%                      5.212519e+00     1.000000e+00  1.000000e+00   \n",
       "max                      2.678029e+02     1.000000e+00  1.000000e+00   \n",
       "\n",
       "       used_pin_number  online_order      fraud  \n",
       "count     1.825194e+06  1.825194e+06  1825194.0  \n",
       "mean      5.625144e-02  7.852103e-01        0.5  \n",
       "std       2.296677e-01  4.080603e-01        0.5  \n",
       "min       0.000000e+00  0.000000e+00        0.0  \n",
       "25%       0.000000e+00  1.000000e+00        0.0  \n",
       "50%       0.000000e+00  1.000000e+00        0.5  \n",
       "75%       0.000000e+00  1.000000e+00        1.0  \n",
       "max       1.000000e+00  1.000000e+00        1.0  "
      ]
     },
     "execution_count": 192,
     "metadata": {},
     "output_type": "execute_result"
    }
   ],
   "source": [
    "print(\"df3 shape:\", df3.shape)\n",
    "print(df3.info())\n",
    "df3.describe()"
   ]
  },
  {
   "cell_type": "markdown",
   "metadata": {},
   "source": [
    "## Analyzing the Dataset\n",
    "\n",
    "#### Splitting the dataset into train and test sets"
   ]
  },
  {
   "cell_type": "code",
   "execution_count": 193,
   "metadata": {},
   "outputs": [],
   "source": [
    "from sklearn.model_selection import train_test_split\n",
    "\n",
    "feature_columns = [\"distance_from_home\", \"distance_from_last_transaction\",\n",
    "\"ratio_to_median_purchase_price\", \"repeat_retailer\", \"used_chip\", \"used_pin_number\", \"online_order\"]\n",
    "\n",
    "X_smote = df3[feature_columns]\n",
    "y_smote = df3.fraud\n",
    "\n",
    "X_train_smote, X_test_smote, y_train_smote, y_test_smote = train_test_split(X_smote, y_smote, test_size=0.2, random_state=39)"
   ]
  },
  {
   "cell_type": "code",
   "execution_count": 194,
   "metadata": {},
   "outputs": [
    {
     "name": "stdout",
     "output_type": "stream",
     "text": [
      "         distance_from_home  distance_from_last_transaction  \\\n",
      "839315           128.733444                        1.379909   \n",
      "1626265           13.425438                       10.668039   \n",
      "1690646            0.719136                        1.711302   \n",
      "1680653            1.598907                        1.801605   \n",
      "277528             9.097755                        1.261386   \n",
      "...                     ...                             ...   \n",
      "383892            10.399544                        0.629596   \n",
      "1737792          100.963301                        0.451017   \n",
      "203817             7.570151                        6.117175   \n",
      "1269865           21.526340                        1.404967   \n",
      "60809              2.556926                        0.038829   \n",
      "\n",
      "         ratio_to_median_purchase_price  repeat_retailer  used_chip  \\\n",
      "839315                         0.261219              1.0   0.000000   \n",
      "1626265                        4.092161              1.0   0.552015   \n",
      "1690646                        4.243811              0.0   0.000000   \n",
      "1680653                        4.750109              0.0   1.000000   \n",
      "277528                         0.565879              1.0   1.000000   \n",
      "...                                 ...              ...        ...   \n",
      "383892                         3.637264              1.0   0.000000   \n",
      "1737792                        0.198007              1.0   0.000000   \n",
      "203817                         3.174155              1.0   0.000000   \n",
      "1269865                        6.656801              1.0   0.000000   \n",
      "60809                          1.189570              1.0   0.000000   \n",
      "\n",
      "         used_pin_number  online_order  \n",
      "839315               0.0           1.0  \n",
      "1626265              0.0           1.0  \n",
      "1690646              0.0           1.0  \n",
      "1680653              0.0           1.0  \n",
      "277528               1.0           1.0  \n",
      "...                  ...           ...  \n",
      "383892               0.0           1.0  \n",
      "1737792              0.0           1.0  \n",
      "203817               0.0           0.0  \n",
      "1269865              0.0           1.0  \n",
      "60809                0.0           0.0  \n",
      "\n",
      "[1460155 rows x 7 columns]\n"
     ]
    }
   ],
   "source": [
    "print(X_train_smote)"
   ]
  },
  {
   "cell_type": "markdown",
   "metadata": {},
   "source": [
    "## Feature Scaling"
   ]
  },
  {
   "cell_type": "code",
   "execution_count": 195,
   "metadata": {},
   "outputs": [
    {
     "name": "stdout",
     "output_type": "stream",
     "text": [
      "         distance_from_home  distance_from_last_transaction  \\\n",
      "839315           128.733444                        1.379909   \n",
      "1626265           13.425438                       10.668039   \n",
      "1690646            0.719136                        1.711302   \n",
      "1680653            1.598907                        1.801605   \n",
      "277528             9.097755                        1.261386   \n",
      "...                     ...                             ...   \n",
      "383892            10.399544                        0.629596   \n",
      "1737792          100.963301                        0.451017   \n",
      "203817             7.570151                        6.117175   \n",
      "1269865           21.526340                        1.404967   \n",
      "60809              2.556926                        0.038829   \n",
      "\n",
      "         ratio_to_median_purchase_price  repeat_retailer  used_chip  \\\n",
      "839315                         0.261219              1.0   0.000000   \n",
      "1626265                        4.092161              1.0   0.552015   \n",
      "1690646                        4.243811              0.0   0.000000   \n",
      "1680653                        4.750109              0.0   1.000000   \n",
      "277528                         0.565879              1.0   1.000000   \n",
      "...                                 ...              ...        ...   \n",
      "383892                         3.637264              1.0   0.000000   \n",
      "1737792                        0.198007              1.0   0.000000   \n",
      "203817                         3.174155              1.0   0.000000   \n",
      "1269865                        6.656801              1.0   0.000000   \n",
      "60809                          1.189570              1.0   0.000000   \n",
      "\n",
      "         used_pin_number  online_order  \n",
      "839315               0.0           1.0  \n",
      "1626265              0.0           1.0  \n",
      "1690646              0.0           1.0  \n",
      "1680653              0.0           1.0  \n",
      "277528               1.0           1.0  \n",
      "...                  ...           ...  \n",
      "383892               0.0           1.0  \n",
      "1737792              0.0           1.0  \n",
      "203817               0.0           0.0  \n",
      "1269865              0.0           1.0  \n",
      "60809                0.0           0.0  \n",
      "\n",
      "[1460155 rows x 7 columns]\n"
     ]
    }
   ],
   "source": [
    "print(X_train_smote)"
   ]
  },
  {
   "cell_type": "markdown",
   "metadata": {},
   "source": [
    "## Training The Logistic Regression Model"
   ]
  },
  {
   "cell_type": "code",
   "execution_count": 196,
   "metadata": {},
   "outputs": [
    {
     "name": "stdout",
     "output_type": "stream",
     "text": [
      "Accuracy of logistic regression classifier on test set: 0.94169\n"
     ]
    }
   ],
   "source": [
    "from sklearn.linear_model import LogisticRegression\n",
    "from sklearn import metrics\n",
    "logreg = LogisticRegression(max_iter=200)\n",
    "logreg.fit(X_train_smote, y_train_smote)\n",
    "\n",
    "y_pred_logreg_smote = logreg.predict(X_test_smote)\n",
    "print(\"Accuracy of logistic regression classifier on test set: {:.5f}\".format(logreg.score(X_test_smote, y_test_smote)))"
   ]
  },
  {
   "cell_type": "markdown",
   "metadata": {},
   "source": [
    "## Making The Confusion Matrix"
   ]
  },
  {
   "cell_type": "code",
   "execution_count": 197,
   "metadata": {},
   "outputs": [
    {
     "name": "stdout",
     "output_type": "stream",
     "text": [
      "<function confusion_matrix at 0x0000023901A917B8>\n"
     ]
    }
   ],
   "source": [
    "from sklearn.metrics import confusion_matrix\n",
    "confusion_matrix_logreg = confusion_matrix(y_test_smote, y_pred_logreg_smote)\n",
    "print(confusion_matrix)"
   ]
  },
  {
   "cell_type": "code",
   "execution_count": 198,
   "metadata": {},
   "outputs": [
    {
     "data": {
      "text/plain": [
       "Text(87.0, 0.5, 'Reality')"
      ]
     },
     "execution_count": 198,
     "metadata": {},
     "output_type": "execute_result"
    },
    {
     "data": {
      "image/png": "[encoded data removed]",
      "text/plain": [
       "<Figure size 864x432 with 2 Axes>"
      ]
     },
     "metadata": {
      "needs_background": "light"
     },
     "output_type": "display_data"
    }
   ],
   "source": [
    "plt.figure(figsize = (12, 6))\n",
    "\n",
    "sns.heatmap(confusion_matrix_logreg, annot = True, cmap = \"hot\")\n",
    "plt.xlabel(\"Prediction\")\n",
    "plt.ylabel(\"Reality\")"
   ]
  },
  {
   "cell_type": "code",
   "execution_count": 199,
   "metadata": {},
   "outputs": [
    {
     "name": "stdout",
     "output_type": "stream",
     "text": [
      "[[170559  12120]\n",
      " [  9167 173193]]\n"
     ]
    },
    {
     "data": {
      "text/plain": [
       "0.9416856828996354"
      ]
     },
     "execution_count": 199,
     "metadata": {},
     "output_type": "execute_result"
    }
   ],
   "source": [
    "from sklearn.metrics import confusion_matrix, accuracy_score\n",
    "cm = confusion_matrix(y_test_smote, y_pred_logreg_smote)\n",
    "print(cm)\n",
    "accuracy_score(y_test_smote, y_pred_logreg_smote)"
   ]
  },
  {
   "cell_type": "markdown",
   "metadata": {},
   "source": [
    "## Using Decision Tree Model"
   ]
  },
  {
   "cell_type": "code",
   "execution_count": 200,
   "metadata": {},
   "outputs": [
    {
     "name": "stdout",
     "output_type": "stream",
     "text": [
      "Accuracy: 0.999969866233471\n"
     ]
    }
   ],
   "source": [
    "from sklearn.tree import DecisionTreeClassifier\n",
    "\n",
    "clf = DecisionTreeClassifier()\n",
    "clf = clf.fit(X_train_smote,y_train_smote)\n",
    "\n",
    "y_pred_dectree_smote = clf.predict(X_test_smote)\n",
    "\n",
    "print(\"Accuracy:\", metrics.accuracy_score(y_test_smote, y_pred_dectree_smote))"
   ]
  },
  {
   "cell_type": "code",
   "execution_count": 201,
   "metadata": {},
   "outputs": [
    {
     "data": {
      "text/plain": [
       "array([[182676,      3],\n",
       "       [     8, 182352]], dtype=int64)"
      ]
     },
     "execution_count": 201,
     "metadata": {},
     "output_type": "execute_result"
    }
   ],
   "source": [
    "from sklearn.metrics import confusion_matrix\n",
    "confusion_matrix_decision = confusion_matrix(y_test_smote, y_pred_dectree_smote)\n",
    "confusion_matrix_decision"
   ]
  },
  {
   "cell_type": "code",
   "execution_count": 202,
   "metadata": {},
   "outputs": [],
   "source": [
    "models = [\"Logistic Regression\", \"Decision Tree\"]\n",
    "\n",
    "false_positives = []\n",
    "\n",
    "false_positives.append(confusion_matrix_logreg[0, 1])\n",
    "false_positives.append(confusion_matrix_decision[0, 1])\n",
    "\n",
    "false_negatives =[]\n",
    "\n",
    "false_negatives.append(confusion_matrix_logreg[1, 0])\n",
    "false_negatives.append(confusion_matrix_decision[1, 0])\n",
    "\n",
    "accuracy = [logreg.score(X_test_smote, y_test_smote), metrics.accuracy_score(y_test_smote, y_pred_dectree_smote)]"
   ]
  },
  {
   "cell_type": "code",
   "execution_count": 203,
   "metadata": {},
   "outputs": [
    {
     "data": {
      "text/html": [
       "<div>\n",
       "<style scoped>\n",
       "    .dataframe tbody tr th:only-of-type {\n",
       "        vertical-align: middle;\n",
       "    }\n",
       "\n",
       "    .dataframe tbody tr th {\n",
       "        vertical-align: top;\n",
       "    }\n",
       "\n",
       "    .dataframe thead th {\n",
       "        text-align: right;\n",
       "    }\n",
       "</style>\n",
       "<table border=\"1\" class=\"dataframe\">\n",
       "  <thead>\n",
       "    <tr style=\"text-align: right;\">\n",
       "      <th></th>\n",
       "      <th>Model</th>\n",
       "      <th>False Negatives</th>\n",
       "      <th>False Positives</th>\n",
       "      <th>Accuracy</th>\n",
       "    </tr>\n",
       "  </thead>\n",
       "  <tbody>\n",
       "    <tr>\n",
       "      <th>0</th>\n",
       "      <td>Logistic Regression</td>\n",
       "      <td>9167</td>\n",
       "      <td>12120</td>\n",
       "      <td>0.941686</td>\n",
       "    </tr>\n",
       "    <tr>\n",
       "      <th>1</th>\n",
       "      <td>Decision Tree</td>\n",
       "      <td>8</td>\n",
       "      <td>3</td>\n",
       "      <td>0.999970</td>\n",
       "    </tr>\n",
       "  </tbody>\n",
       "</table>\n",
       "</div>"
      ],
      "text/plain": [
       "                 Model  False Negatives  False Positives  Accuracy\n",
       "0  Logistic Regression             9167            12120  0.941686\n",
       "1        Decision Tree                8                3  0.999970"
      ]
     },
     "execution_count": 203,
     "metadata": {},
     "output_type": "execute_result"
    }
   ],
   "source": [
    "model_comp = []\n",
    "\n",
    "model_comp = pd.DataFrame(models, columns=[\"Model\"])\n",
    "model_comp[\"False Negatives\"] = false_negatives\n",
    "model_comp[\"False Positives\"] = false_positives\n",
    "model_comp[\"Accuracy\"] = accuracy\n",
    "model_comp"
   ]
  },
  {
   "cell_type": "code",
   "execution_count": 204,
   "metadata": {},
   "outputs": [
    {
     "name": "stdout",
     "output_type": "stream",
     "text": [
      "No Fraud\n"
     ]
    }
   ],
   "source": [
    "result = clf.predict(sc.transform([[10.6644737160167,1.56576908620166,4.88652084310755,1,0,0,1]]))\n",
    "if result == 0:\n",
    "    print(\"No Fraud\")\n",
    "elif result == 1:\n",
    "    print(\"Fraud\")"
   ]
  },
  {
   "cell_type": "code",
   "execution_count": 205,
   "metadata": {},
   "outputs": [
    {
     "name": "stdout",
     "output_type": "stream",
     "text": [
      "No Fraud\n"
     ]
    }
   ],
   "source": [
    "result = logreg.predict(sc.transform([[10.6644737160167,1.56576908620166,4.88652084310755,1,0,0,1]]))\n",
    "if result == 0:\n",
    "    print(\"No Fraud\")\n",
    "elif result == 1:\n",
    "    print(\"Fraud\")"
   ]
  },
  {
   "cell_type": "markdown",
   "metadata": {},
   "source": [
    "### Saving the trained model"
   ]
  },
  {
   "cell_type": "code",
   "execution_count": 206,
   "metadata": {},
   "outputs": [],
   "source": [
    "import pickle"
   ]
  },
  {
   "cell_type": "code",
   "execution_count": 207,
   "metadata": {},
   "outputs": [],
   "source": [
    "filename = 'trained_fraud_model.sav'\n",
    "pickle.dump(clf, open(filename, 'wb'))"
   ]
  },
  {
   "cell_type": "markdown",
   "metadata": {},
   "source": [
    "### Loading the saved model"
   ]
  },
  {
   "cell_type": "code",
   "execution_count": 208,
   "metadata": {},
   "outputs": [],
   "source": [
    "loaded_model = pickle.load(open('trained_fraud_model.sav', 'rb'))"
   ]
  },
  {
   "cell_type": "code",
   "execution_count": 210,
   "metadata": {},
   "outputs": [
    {
     "name": "stdout",
     "output_type": "stream",
     "text": [
      "No Fraud\n"
     ]
    }
   ],
   "source": [
    "input_data = (15.0190426448825,0.0238643075434555,0.503276157986172,1,0,0,0)\n",
    "input_data_as_numpy_array = np.asarray(input_data)\n",
    "input_data_reshaped = input_data_as_numpy_array.reshape(1,-1)\n",
    "result = loaded_model.predict(input_data_reshaped)\n",
    "if result == 0:\n",
    "    print(\"No Fraud\")\n",
    "elif result == 1:\n",
    "    print(\"Fraud\")"
   ]
  },
  {
   "cell_type": "code",
   "execution_count": null,
   "metadata": {},
   "outputs": [],
   "source": []
  }
 ],
 "metadata": {
  "kernelspec": {
   "display_name": "Python 3",
   "language": "python",
   "name": "python3"
  },
  "language_info": {
   "codemirror_mode": {
    "name": "ipython",
    "version": 3
   },
   "file_extension": ".py",
   "mimetype": "text/x-python",
   "name": "python",
   "nbconvert_exporter": "python",
   "pygments_lexer": "ipython3",
   "version": "3.7.3"
  }
 },
 "nbformat": 4,
 "nbformat_minor": 2
}
